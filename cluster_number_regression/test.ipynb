{
 "cells": [
  {
   "cell_type": "markdown",
   "metadata": {},
   "source": [
    "# Test"
   ]
  },
  {
   "cell_type": "code",
   "execution_count": 39,
   "metadata": {},
   "outputs": [],
   "source": [
    "import numpy as np\n",
    "import pandas as pd\n",
    "import sys\n",
    "import argparse\n",
    "from array import array\n",
    "import ROOT\n",
    "from ROOT import TFile, TTree\n",
    "\n",
    "\n",
    "parser = argparse.ArgumentParser()\n",
    "parser.add_argument('--datasetFile', type=str, default='dataset_test.txt')\n",
    "parser.add_argument('--output', type=str, default='cluster_counting_test.root')\n",
    "\n",
    "#args = parser.parse_args()\n",
    "args = parser.parse_args([])\n",
    "\n",
    "filename = args.datasetFile\n",
    "filename_output = args.output"
   ]
  },
  {
   "cell_type": "code",
   "execution_count": 40,
   "metadata": {},
   "outputs": [
    {
     "name": "stdout",
     "output_type": "stream",
     "text": [
      "(5000, 1025)\n"
     ]
    },
    {
     "data": {
      "text/plain": [
       "(5000, 1025)"
      ]
     },
     "execution_count": 40,
     "metadata": {},
     "output_type": "execute_result"
    }
   ],
   "source": [
    "dataset = pd.read_csv(filename, sep='\\\\s+', header=None).values\n",
    "print(dataset.shape)\n",
    "\n",
    "#dataset = np.append(dataset, np.zeros((dataset.shape[0], 6)), axis=1)\n",
    "dataset.shape\n"
   ]
  },
  {
   "cell_type": "code",
   "execution_count": 41,
   "metadata": {},
   "outputs": [
    {
     "name": "stdout",
     "output_type": "stream",
     "text": [
      "(5000, 1024)\n",
      "(5000, 1024, 1)\n"
     ]
    }
   ],
   "source": [
    "dataset_feature = dataset[0:50000, 1:]\n",
    "dataset_target = dataset[0:50000, 0]\n",
    "print(dataset_feature.shape)\n",
    "\n",
    "nfeature = 1\n",
    "ntime = dataset_feature.shape[1]\n",
    "nsample = dataset_feature.shape[0]\n",
    "\n",
    "dataset_feature = dataset_feature.reshape(nsample, ntime, nfeature)\n",
    "print(dataset_feature.shape)\n"
   ]
  },
  {
   "cell_type": "code",
   "execution_count": 42,
   "metadata": {},
   "outputs": [],
   "source": [
    "from keras.models import load_model\n",
    "\n",
    "model = load_model('cluster_num_regression.h5')"
   ]
  },
  {
   "cell_type": "code",
   "execution_count": 43,
   "metadata": {},
   "outputs": [
    {
     "name": "stdout",
     "output_type": "stream",
     "text": [
      "[-2.19421387 -0.99744225 -1.3584671  ...  0.65006828  0.28272629\n",
      "  1.4437933 ]\n"
     ]
    }
   ],
   "source": [
    "predicted = model.predict(dataset_feature)\n",
    "\n",
    "predicted = predicted.reshape(nsample,)\n",
    "#print(predicted)\n",
    "\n"
   ]
  },
  {
   "cell_type": "code",
   "execution_count": 44,
   "metadata": {},
   "outputs": [],
   "source": [
    "file_out = TFile(filename_output, 'recreate')\n",
    "tree_out = TTree('signal', 'signal')\n",
    "\n",
    "ncls_pred = array('i', [-1])\n",
    "tree_out.Branch('ncls_pred', ncls_pred, 'ncls_pred/I')\n",
    "\n",
    "for ncls in predicted:\n",
    "    ncls_pred[0] = int(ncls)\n",
    "    tree_out.Fill()\n",
    "\n",
    "file_out.WriteTObject(tree_out)\n",
    "file_out.Close()"
   ]
  }
 ],
 "metadata": {
  "interpreter": {
   "hash": "31f2aee4e71d21fbe5cf8b01ff0e069b9275f58929596ceb00d14d90e3e16cd6"
  },
  "kernelspec": {
   "display_name": "Python 3.6.9 64-bit",
   "language": "python",
   "name": "python3"
  },
  "language_info": {
   "codemirror_mode": {
    "name": "ipython",
    "version": 3
   },
   "file_extension": ".py",
   "mimetype": "text/x-python",
   "name": "python",
   "nbconvert_exporter": "python",
   "pygments_lexer": "ipython3",
   "version": "3.6.9"
  },
  "orig_nbformat": 4
 },
 "nbformat": 4,
 "nbformat_minor": 2
}
