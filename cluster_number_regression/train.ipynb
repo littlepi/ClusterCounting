{
 "cells": [
  {
   "cell_type": "markdown",
   "metadata": {},
   "source": [
    "# Train"
   ]
  },
  {
   "cell_type": "code",
   "execution_count": 8,
   "metadata": {},
   "outputs": [],
   "source": [
    "import numpy as np\n",
    "import pandas as pd\n",
    "\n",
    "filename = \"dataset_train.txt\""
   ]
  },
  {
   "cell_type": "code",
   "execution_count": 14,
   "metadata": {},
   "outputs": [
    {
     "name": "stdout",
     "output_type": "stream",
     "text": [
      "(3500, 1025)\n",
      "(1500, 1025)\n",
      "1024\n"
     ]
    }
   ],
   "source": [
    "from sklearn.model_selection import train_test_split\n",
    "\n",
    "#val_frac = 0.3\n",
    "#num_val = int(dataset_train.shape[0] * val_frac)\n",
    "#num_train = dataset_train.shape[0] - num_val\n",
    "\n",
    "#train_data_feature = dataset_train[0:num_train, 1:]\n",
    "#train_data_target = dataset_train[0:num_train, 0]\n",
    "#train_data_feature.shape\n",
    "#validate_data_feature = dataset_train[num_train:, 1:]\n",
    "#validate_data_target = dataset_train[num_train:, 0]\n",
    "\n",
    "dataset = pd.read_csv(filename, sep='\\\\s+', header=None).values\n",
    "\n",
    "dataset_train, dataset_test = train_test_split(dataset, test_size=0.3, random_state=12)\n",
    "train_data_feature = dataset_train[:, 1:]\n",
    "train_data_target = dataset_train[:, 0]\n",
    "validate_data_feature = dataset_test[:, 1:]\n",
    "validate_data_target = dataset_test[:, 0]\n",
    "\n",
    "print(dataset_train.shape)\n",
    "print(dataset_test.shape)\n",
    "\n",
    "num_train = train_data_feature.shape[0]\n",
    "num_val = validate_data_feature.shape[0]\n",
    "nfeature = train_data_feature.shape[1]\n",
    "print(nfeature)"
   ]
  },
  {
   "cell_type": "code",
   "execution_count": 23,
   "metadata": {},
   "outputs": [],
   "source": [
    "from keras import models\n",
    "from keras import layers\n",
    "from tensorflow.keras import optimizers\n",
    "\n",
    "def dnn_model():\n",
    "    model = models.Sequential()\n",
    "    model.add(layers.Dense(32, activation='relu', input_shape=(nfeature, )))\n",
    "    model.add(layers.Dense(32, activation='relu'))\n",
    "    model.add(layers.Dense(32, activation='relu'))\n",
    "    #model.add(layers.Dense(32, activation='relu'))\n",
    "    model.add(layers.Dense(1))\n",
    "    model.compile(optimizer='rmsprop', loss='mse', metrics=['mae'])\n",
    "    return model\n",
    "\n",
    "def cnn_model():\n",
    "    model = models.Sequential()\n",
    "    model.add(layers.Conv1D(32, 4, activation='relu', input_shape=(nfeature, 1)))\n",
    "    model.add(layers.MaxPool1D(2))\n",
    "    model.add(layers.Conv1D(16, 4, activation='relu'))\n",
    "    model.add(layers.MaxPool1D(2))\n",
    "    #model.add(layers.Conv1D(32, 16, activation='tanh'))\n",
    "    #model.add(layers.GlobalMaxPool1D())\n",
    "    model.add(layers.Flatten())\n",
    "    #model.add(layers.Dropout(0.5))\n",
    "    #model.add(layers.Dense(64))\n",
    "    model.add(layers.Dense(32))\n",
    "    #model.add(layers.Dropout(0.5))\n",
    "    #model.add(layers.Dense(32))\n",
    "    model.add(layers.Dense(1))\n",
    "    model.summary()\n",
    "    #model.compile(optimizer='rmsprop', loss='mse', metrics=['mae'])\n",
    "    model.compile(optimizer=optimizers.RMSprop(learning_rate=0.0001), loss='mse', metrics=['mae'])\n",
    "    #model.compile(optimizer=optimizers.RMSprop(learning_rate=0.0001), loss='log_cosh', metrics=['mae'])\n",
    "    return model\n",
    "\n",
    "def rnn_model():\n",
    "    model = models.Sequential()\n",
    "    #model.add(layers.Conv1D(32, 16, activation='relu', input_shape=(nfeature, 1)))\n",
    "    #model.add(layers.MaxPool1D(4))\n",
    "    #model.add(layers.Conv1D(32, 4, activation='relu'))\n",
    "    #model.add(layers.MaxPool1D(4))\n",
    "    model.add(layers.LSTM(16, return_sequences=True, input_shape=(nfeature, 1)))\n",
    "    #model.add(layers.LSTM(16, return_sequences=True))\n",
    "    #model.add(layers.Dense(16))\n",
    "    model.add(layers.Dense(16))\n",
    "    model.add(layers.Dense(1))\n",
    "    model.summary()\n",
    "    model.compile(optimizer=optimizers.RMSprop(learning_rate=0.0001), loss='mse', metrics=['mae'])\n",
    "    return model\n"
   ]
  },
  {
   "cell_type": "code",
   "execution_count": 30,
   "metadata": {},
   "outputs": [
    {
     "name": "stdout",
     "output_type": "stream",
     "text": [
      "Model: \"sequential_5\"\n",
      "_________________________________________________________________\n",
      "Layer (type)                 Output Shape              Param #   \n",
      "=================================================================\n",
      "conv1d_6 (Conv1D)            (None, 1021, 32)          160       \n",
      "_________________________________________________________________\n",
      "max_pooling1d_4 (MaxPooling1 (None, 510, 32)           0         \n",
      "_________________________________________________________________\n",
      "conv1d_7 (Conv1D)            (None, 507, 16)           2064      \n",
      "_________________________________________________________________\n",
      "max_pooling1d_5 (MaxPooling1 (None, 253, 16)           0         \n",
      "_________________________________________________________________\n",
      "flatten_3 (Flatten)          (None, 4048)              0         \n",
      "_________________________________________________________________\n",
      "dense_6 (Dense)              (None, 32)                129568    \n",
      "_________________________________________________________________\n",
      "dense_7 (Dense)              (None, 1)                 33        \n",
      "=================================================================\n",
      "Total params: 131,825\n",
      "Trainable params: 131,825\n",
      "Non-trainable params: 0\n",
      "_________________________________________________________________\n",
      "Epoch 1/50\n",
      "55/55 [==============================] - 1s 20ms/step - loss: 223.7264 - mae: 14.3881 - val_loss: 125.3388 - val_mae: 10.6463\n",
      "Epoch 2/50\n",
      "55/55 [==============================] - 1s 16ms/step - loss: 47.3611 - mae: 5.6707 - val_loss: 9.2728 - val_mae: 2.4083\n",
      "Epoch 3/50\n",
      "55/55 [==============================] - 1s 18ms/step - loss: 8.4625 - mae: 2.3396 - val_loss: 8.2442 - val_mae: 2.2800\n",
      "Epoch 4/50\n",
      "55/55 [==============================] - 1s 16ms/step - loss: 7.7077 - mae: 2.2278 - val_loss: 7.4762 - val_mae: 2.1614\n",
      "Epoch 5/50\n",
      "55/55 [==============================] - 1s 17ms/step - loss: 6.9621 - mae: 2.1123 - val_loss: 6.8803 - val_mae: 2.0669\n",
      "Epoch 6/50\n",
      "55/55 [==============================] - 1s 16ms/step - loss: 6.4641 - mae: 2.0241 - val_loss: 6.3647 - val_mae: 1.9850\n",
      "Epoch 7/50\n",
      "55/55 [==============================] - 1s 18ms/step - loss: 6.1676 - mae: 1.9647 - val_loss: 6.1609 - val_mae: 1.9497\n",
      "Epoch 8/50\n",
      "55/55 [==============================] - 1s 16ms/step - loss: 5.9652 - mae: 1.9235 - val_loss: 6.0064 - val_mae: 1.9117\n",
      "Epoch 9/50\n",
      "55/55 [==============================] - 1s 16ms/step - loss: 5.8265 - mae: 1.8980 - val_loss: 5.9341 - val_mae: 1.8976\n",
      "Epoch 10/50\n",
      "55/55 [==============================] - 1s 16ms/step - loss: 5.6983 - mae: 1.8719 - val_loss: 5.7057 - val_mae: 1.8594\n",
      "Epoch 11/50\n",
      "55/55 [==============================] - 1s 17ms/step - loss: 5.6200 - mae: 1.8570 - val_loss: 5.7288 - val_mae: 1.8590\n",
      "Epoch 12/50\n",
      "55/55 [==============================] - 1s 17ms/step - loss: 5.5650 - mae: 1.8433 - val_loss: 5.5741 - val_mae: 1.8372\n",
      "Epoch 13/50\n",
      "55/55 [==============================] - 1s 16ms/step - loss: 5.4926 - mae: 1.8304 - val_loss: 5.5105 - val_mae: 1.8248\n",
      "Epoch 14/50\n",
      "55/55 [==============================] - 1s 16ms/step - loss: 5.4296 - mae: 1.8173 - val_loss: 5.5380 - val_mae: 1.8240\n",
      "Epoch 15/50\n",
      "55/55 [==============================] - 1s 16ms/step - loss: 5.4020 - mae: 1.8153 - val_loss: 5.4002 - val_mae: 1.8031\n",
      "Epoch 16/50\n",
      "55/55 [==============================] - 1s 17ms/step - loss: 5.3378 - mae: 1.8028 - val_loss: 5.3796 - val_mae: 1.7968\n",
      "Epoch 17/50\n",
      "55/55 [==============================] - 1s 17ms/step - loss: 5.3176 - mae: 1.7985 - val_loss: 5.3479 - val_mae: 1.7935\n",
      "Epoch 18/50\n",
      "55/55 [==============================] - 1s 17ms/step - loss: 5.2500 - mae: 1.7884 - val_loss: 5.4079 - val_mae: 1.7996\n",
      "Epoch 19/50\n",
      "55/55 [==============================] - 1s 16ms/step - loss: 5.2076 - mae: 1.7819 - val_loss: 5.4358 - val_mae: 1.8046\n",
      "Epoch 20/50\n",
      "55/55 [==============================] - 1s 17ms/step - loss: 5.1820 - mae: 1.7797 - val_loss: 5.3221 - val_mae: 1.7846\n",
      "Epoch 21/50\n",
      "55/55 [==============================] - 1s 17ms/step - loss: 5.1260 - mae: 1.7721 - val_loss: 5.2129 - val_mae: 1.7667\n",
      "Epoch 22/50\n",
      "55/55 [==============================] - 1s 17ms/step - loss: 5.1014 - mae: 1.7629 - val_loss: 5.1816 - val_mae: 1.7637\n",
      "Epoch 23/50\n",
      "55/55 [==============================] - 1s 20ms/step - loss: 5.0648 - mae: 1.7585 - val_loss: 5.1459 - val_mae: 1.7578\n",
      "Epoch 24/50\n",
      "55/55 [==============================] - 1s 16ms/step - loss: 5.0446 - mae: 1.7557 - val_loss: 5.0817 - val_mae: 1.7455\n",
      "Epoch 25/50\n",
      "55/55 [==============================] - 1s 17ms/step - loss: 4.9989 - mae: 1.7472 - val_loss: 5.2094 - val_mae: 1.7654\n",
      "Epoch 26/50\n",
      "55/55 [==============================] - 1s 18ms/step - loss: 4.9784 - mae: 1.7440 - val_loss: 5.0235 - val_mae: 1.7351\n",
      "Epoch 27/50\n",
      "55/55 [==============================] - 1s 16ms/step - loss: 4.9369 - mae: 1.7364 - val_loss: 5.0982 - val_mae: 1.7462\n",
      "Epoch 28/50\n",
      "55/55 [==============================] - 1s 19ms/step - loss: 4.8892 - mae: 1.7290 - val_loss: 5.1973 - val_mae: 1.7644\n",
      "Epoch 29/50\n",
      "55/55 [==============================] - 1s 17ms/step - loss: 4.8817 - mae: 1.7277 - val_loss: 5.0117 - val_mae: 1.7312\n",
      "Epoch 30/50\n",
      "55/55 [==============================] - 1s 20ms/step - loss: 4.8452 - mae: 1.7285 - val_loss: 4.9197 - val_mae: 1.7169\n",
      "Epoch 31/50\n",
      "55/55 [==============================] - 1s 21ms/step - loss: 4.8092 - mae: 1.7205 - val_loss: 5.0258 - val_mae: 1.7397\n",
      "Epoch 32/50\n",
      "55/55 [==============================] - 1s 21ms/step - loss: 4.7805 - mae: 1.7132 - val_loss: 4.8779 - val_mae: 1.7084\n",
      "Epoch 33/50\n",
      "55/55 [==============================] - 1s 22ms/step - loss: 4.7844 - mae: 1.7136 - val_loss: 4.9170 - val_mae: 1.7189\n",
      "Epoch 34/50\n",
      "55/55 [==============================] - 1s 20ms/step - loss: 4.7441 - mae: 1.7065 - val_loss: 4.9610 - val_mae: 1.7212\n",
      "Epoch 35/50\n",
      "55/55 [==============================] - 1s 19ms/step - loss: 4.7178 - mae: 1.7001 - val_loss: 4.8133 - val_mae: 1.6975\n",
      "Epoch 36/50\n",
      "55/55 [==============================] - 1s 19ms/step - loss: 4.6875 - mae: 1.6979 - val_loss: 4.8566 - val_mae: 1.7029\n",
      "Epoch 37/50\n",
      "55/55 [==============================] - 1s 17ms/step - loss: 4.6668 - mae: 1.6867 - val_loss: 4.8386 - val_mae: 1.7001\n",
      "Epoch 38/50\n",
      "55/55 [==============================] - 1s 16ms/step - loss: 4.6512 - mae: 1.6914 - val_loss: 4.7706 - val_mae: 1.6889\n",
      "Epoch 39/50\n",
      "55/55 [==============================] - 1s 16ms/step - loss: 4.6281 - mae: 1.6852 - val_loss: 4.7649 - val_mae: 1.6873\n",
      "Epoch 40/50\n",
      "55/55 [==============================] - 1s 18ms/step - loss: 4.6098 - mae: 1.6833 - val_loss: 5.0434 - val_mae: 1.7515\n",
      "Epoch 41/50\n",
      "55/55 [==============================] - 1s 17ms/step - loss: 4.5967 - mae: 1.6789 - val_loss: 4.7232 - val_mae: 1.6832\n",
      "Epoch 42/50\n",
      "55/55 [==============================] - 1s 15ms/step - loss: 4.5750 - mae: 1.6770 - val_loss: 4.7186 - val_mae: 1.6787\n",
      "Epoch 43/50\n",
      "55/55 [==============================] - 1s 16ms/step - loss: 4.5626 - mae: 1.6738 - val_loss: 4.6865 - val_mae: 1.6735\n",
      "Epoch 44/50\n",
      "55/55 [==============================] - 1s 16ms/step - loss: 4.5389 - mae: 1.6678 - val_loss: 4.6959 - val_mae: 1.6738\n",
      "Epoch 45/50\n",
      "55/55 [==============================] - 1s 16ms/step - loss: 4.5177 - mae: 1.6637 - val_loss: 4.6876 - val_mae: 1.6768\n",
      "Epoch 46/50\n",
      "55/55 [==============================] - 1s 15ms/step - loss: 4.5056 - mae: 1.6613 - val_loss: 4.7554 - val_mae: 1.6927\n",
      "Epoch 47/50\n",
      "55/55 [==============================] - 1s 15ms/step - loss: 4.4891 - mae: 1.6632 - val_loss: 4.6433 - val_mae: 1.6658\n",
      "Epoch 48/50\n",
      "55/55 [==============================] - 1s 16ms/step - loss: 4.4744 - mae: 1.6538 - val_loss: 4.6858 - val_mae: 1.6713\n",
      "Epoch 49/50\n",
      "55/55 [==============================] - 1s 17ms/step - loss: 4.4580 - mae: 1.6526 - val_loss: 4.6899 - val_mae: 1.6722\n",
      "Epoch 50/50\n",
      "55/55 [==============================] - 1s 18ms/step - loss: 4.4506 - mae: 1.6498 - val_loss: 4.7536 - val_mae: 1.6843\n"
     ]
    }
   ],
   "source": [
    "model = cnn_model()\n",
    "train_data_feature = train_data_feature.reshape(num_train, nfeature, 1)\n",
    "validate_data_feature = validate_data_feature.reshape(num_val, nfeature, 1)\n",
    "history = model.fit(train_data_feature, train_data_target, epochs=50, batch_size=64, verbose=1, validation_data=(validate_data_feature, validate_data_target))"
   ]
  },
  {
   "cell_type": "code",
   "execution_count": 31,
   "metadata": {},
   "outputs": [],
   "source": [
    "model.save('cluster_num_regression.h5')\n",
    "\n",
    "#test_data_feature = test_data_feature.reshape(dataset_test.shape[0], nfeature, 1)\n",
    "#test_mse_score, test_mae_score = model.evaluate(test_data_feature, test_data_target)\n",
    "#print(test_mse_score)\n",
    "#print(test_mae_score)"
   ]
  },
  {
   "cell_type": "code",
   "execution_count": 32,
   "metadata": {},
   "outputs": [
    {
     "data": {
      "text/plain": [
       "dict_keys(['loss', 'mae', 'val_loss', 'val_mae'])"
      ]
     },
     "execution_count": 32,
     "metadata": {},
     "output_type": "execute_result"
    }
   ],
   "source": [
    "history_dict = history.history\n",
    "history_dict.keys()"
   ]
  },
  {
   "cell_type": "code",
   "execution_count": 33,
   "metadata": {},
   "outputs": [
    {
     "data": {
      "image/png": "[encoded data removed]",
      "text/plain": [
       "<Figure size 432x288 with 1 Axes>"
      ]
     },
     "metadata": {
      "needs_background": "light"
     },
     "output_type": "display_data"
    }
   ],
   "source": [
    "import matplotlib.pyplot as plt\n",
    "\n",
    "loss_values = history_dict['loss'][2:]\n",
    "val_loss_values = history_dict['val_loss'][2:]\n",
    "\n",
    "epochs = range(1, len(loss_values)+1)\n",
    "plt.plot(epochs, loss_values, 'bo', label='Training loss')\n",
    "plt.plot(epochs, val_loss_values, 'b', label='Validation loss')\n",
    "plt.title('Training and validation loss')\n",
    "plt.xlabel('Epochs')\n",
    "plt.ylabel('Loss')\n",
    "plt.legend()\n",
    "plt.show()"
   ]
  },
  {
   "cell_type": "code",
   "execution_count": 34,
   "metadata": {},
   "outputs": [
    {
     "data": {
      "image/png": "[encoded data removed]",
      "text/plain": [
       "<Figure size 432x288 with 1 Axes>"
      ]
     },
     "metadata": {
      "needs_background": "light"
     },
     "output_type": "display_data"
    }
   ],
   "source": [
    "mae_values = history_dict['mae'][10:]\n",
    "val_mae_values = history_dict['val_mae'][10:]\n",
    "\n",
    "epochs = range(1, len(mae_values)+1)\n",
    "plt.plot(epochs, mae_values, 'bo', label='Training mae')\n",
    "plt.plot(epochs, val_mae_values, 'b', label='Validation mae')\n",
    "plt.title('Training and validation mae')\n",
    "plt.xlabel('Epochs')\n",
    "plt.ylabel('mae')\n",
    "plt.legend()\n",
    "plt.show()"
   ]
  }
 ],
 "metadata": {
  "interpreter": {
   "hash": "31f2aee4e71d21fbe5cf8b01ff0e069b9275f58929596ceb00d14d90e3e16cd6"
  },
  "kernelspec": {
   "display_name": "ROOT C++",
   "language": "python",
   "name": "python3"
  },
  "language_info": {
   "codemirror_mode": {
    "name": "ipython",
    "version": 3
   },
   "file_extension": ".py",
   "mimetype": "text/x-python",
   "name": "python",
   "nbconvert_exporter": "python",
   "pygments_lexer": "ipython3",
   "version": "3.6.9"
  },
  "orig_nbformat": 4
 },
 "nbformat": 4,
 "nbformat_minor": 2
}
